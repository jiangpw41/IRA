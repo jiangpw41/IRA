{
 "cells": [
  {
   "cell_type": "code",
   "execution_count": 2,
   "metadata": {},
   "outputs": [],
   "source": [
    "from nebula_execute import DB_execute\n",
    "from nebula_pre_post import R3Post_Batch, R3_pre_process\n",
    "from wayne_utils import load_data, save_data, len_compare\n",
    "from tqdm import tqdm\n",
    "import os\n",
    "split_dict = load_data(\"/home/jiangpeiwen2/jiangpeiwen2/NL2GQL/data/N3/split_dict.json\", \"json\")\n",
    "\n",
    "def split_merge( split_query ):\n",
    "    order_dict = {}\n",
    "    total_len = 0\n",
    "    \n",
    "    for key in ['disease', 'potter', 'nba']:\n",
    "        dict_index_list = split_dict['index'][key]\n",
    "        query_list = split_query[key]\n",
    "        total_len += len(query_list)\n",
    "        for i in range(len(query_list)):\n",
    "            index = dict_index_list[i]\n",
    "            if index not in order_dict:\n",
    "                order_dict[index] = (query_list[i], key)\n",
    "            else:\n",
    "                raise Exception( f\"Index重复:{index}\")\n",
    "    if total_len != len(order_dict):\n",
    "        raise Exception( f\"长度不一致:{total_len, len(order_dict)}\")\n",
    "    ret_list = []\n",
    "    space_list = []\n",
    "    for i in range( total_len ):\n",
    "        query, key = order_dict[i ]\n",
    "        space_list.append( key)\n",
    "        ret_list.append( query)\n",
    "    return ret_list, space_list\n",
    "\n",
    "space_list_dict = {}\n",
    "for key in split_dict['index'].keys():\n",
    "    lists = split_dict['index'][key]\n",
    "    for i in range(len(lists)):\n",
    "        index = lists[i]\n",
    "        space_list_dict[index] = key\n",
    "space_list = [ space_list_dict[i] for i in range(len(space_list_dict))]"
   ]
  },
  {
   "cell_type": "markdown",
   "metadata": {},
   "source": [
    "## 执行"
   ]
  },
  {
   "cell_type": "code",
   "execution_count": 3,
   "metadata": {},
   "outputs": [
    {
     "name": "stderr",
     "output_type": "stream",
     "text": [
      "Processing My:   0%|          | 0/1254 [00:00<?, ?it/s]"
     ]
    },
    {
     "name": "stderr",
     "output_type": "stream",
     "text": [
      "Processing My: 100%|██████████| 1254/1254 [00:13<00:00, 91.09it/s] \n",
      "R3 postprocessing...: 100%|██████████| 1254/1254 [00:00<00:00, 561809.15it/s]\n"
     ]
    }
   ],
   "source": [
    "# for model_name in model_list:\n",
    "# from_path_ = f\"/home/jiangpeiwen2/jiangpeiwen2/NL2GQL/inter_data/N3/query_list/FT-{model_name}_query_list.json\"\n",
    "# to_path = f\"/home/jiangpeiwen2/jiangpeiwen2/NL2GQL/inter_data/N3/execute_result_list/FT-{model_name}_execute_results.pickle\"\n",
    "model_name = \"My\"\n",
    "from_path_ = \"/home/jiangpeiwen2/jiangpeiwen2/NL2GQL/inter_data/N3/query_list/FT-GLM4-9B_query_list.json\"\n",
    "to_path = \"/home/jiangpeiwen2/jiangpeiwen2/NL2GQL/inter_data/N3/execute_result_list/FT-GLM4-9B_execute_results.pickle\"\n",
    "query_list = load_data( from_path_, \"json\")\n",
    "if isinstance( query_list, dict):\n",
    "    query_list_all, space_list = split_merge( query_list )\n",
    "else:\n",
    "    query_list_all = query_list\n",
    "query_list_all = R3_pre_process( query_list_all )\n",
    "save_data( query_list_all, from_path_)\n",
    "result_list = []\n",
    "for i in tqdm( range( len(query_list_all)), desc=f\"Processing {model_name}\"):\n",
    "    query = query_list_all[i]\n",
    "    space_name = space_list[i] if space_list[i] != \"potter\" else \"harrypotter_new\"\n",
    "    executor = DB_execute( space_name )\n",
    "    result = executor.exec( query )\n",
    "    result_list.append( result )\n",
    "result_list_post = R3Post_Batch( result_list )\n",
    "save_data( result_list_post, to_path)"
   ]
  }
 ],
 "metadata": {
  "kernelspec": {
   "display_name": "n3",
   "language": "python",
   "name": "python3"
  },
  "language_info": {
   "codemirror_mode": {
    "name": "ipython",
    "version": 3
   },
   "file_extension": ".py",
   "mimetype": "text/x-python",
   "name": "python",
   "nbconvert_exporter": "python",
   "pygments_lexer": "ipython3",
   "version": "3.9.18"
  }
 },
 "nbformat": 4,
 "nbformat_minor": 2
}
