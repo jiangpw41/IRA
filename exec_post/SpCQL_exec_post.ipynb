{
 "cells": [
  {
   "cell_type": "code",
   "execution_count": null,
   "metadata": {},
   "outputs": [],
   "source": [
    "from neo4j_execute import Neo4j_Execute_Batch\n",
    "from neo4j_pre_post import Neo4j_Execute_Post, Neo4j_Pre_Process\n",
    "from wayne_utils import load_data, save_data\n",
    "import os"
   ]
  },
  {
   "cell_type": "code",
   "execution_count": null,
   "metadata": {},
   "outputs": [],
   "source": [
    "_ROOT_PATH = \"/home/jiangpeiwen2/jiangpeiwen2/NL2GQL/\"\n",
    "\n",
    "from_dir = os.path.join( _ROOT_PATH, \"inter_data/SpCQL/query_list\")\n",
    "to_dir = os.path.join( _ROOT_PATH, \"inter_data/SpCQL/execute_result_list\")\n",
    "\n",
    "from_file_list = os.listdir( from_dir )\n",
    "# for file_name in from_file_list:\n",
    "file_name = \"FT-GLM4-9B_query_list.json\"\n",
    "    # if file_name in [ \"Copynet_100e_query_list.json\"]:\n",
    "from_path = os.path.join( from_dir, file_name)\n",
    "to_file_name = file_name.replace( \"query_list\", \"execute_results\")\n",
    "to_path = os.path.join( to_dir, to_file_name)\n",
    "    "
   ]
  },
  {
   "cell_type": "code",
   "execution_count": null,
   "metadata": {},
   "outputs": [],
   "source": [
    "print( f\"执行文件{to_file_name}不存在，当即执行\")\n",
    "query_list = load_data( from_path, \"json\")\n",
    "query_list = Neo4j_Pre_Process( query_list  )"
   ]
  },
  {
   "cell_type": "code",
   "execution_count": null,
   "metadata": {},
   "outputs": [],
   "source": [
    "execute_result_list = Neo4j_Execute_Batch( query_list )"
   ]
  },
  {
   "cell_type": "code",
   "execution_count": null,
   "metadata": {},
   "outputs": [],
   "source": [
    "post_results_list, _, _ = Neo4j_Execute_Post( execute_result_list )"
   ]
  },
  {
   "cell_type": "code",
   "execution_count": null,
   "metadata": {},
   "outputs": [],
   "source": [
    "to_path"
   ]
  },
  {
   "cell_type": "code",
   "execution_count": null,
   "metadata": {},
   "outputs": [],
   "source": [
    "save_data( post_results_list, to_path )"
   ]
  }
 ],
 "metadata": {
  "kernelspec": {
   "display_name": "t2c",
   "language": "python",
   "name": "python3"
  },
  "language_info": {
   "codemirror_mode": {
    "name": "ipython",
    "version": 3
   },
   "file_extension": ".py",
   "mimetype": "text/x-python",
   "name": "python",
   "nbconvert_exporter": "python",
   "pygments_lexer": "ipython3",
   "version": "3.13.1"
  }
 },
 "nbformat": 4,
 "nbformat_minor": 2
}
