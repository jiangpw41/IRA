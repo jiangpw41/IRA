{
 "cells": [
  {
   "cell_type": "code",
   "execution_count": 1,
   "metadata": {},
   "outputs": [],
   "source": [
    "from wayne_utils import load_data, save_data\n",
    "from cypher_parser import split_cypher_clauses, process_cypher\n",
    "from copy import deepcopy\n",
    "import re\n",
    "tests = load_data( \"/home/jiangpeiwen2/jiangpeiwen2/IRA/data/SpCQL/test.json\", \"json\")       # 2007\n",
    "trains = load_data( \"/home/jiangpeiwen2/jiangpeiwen2/IRA/data/SpCQL/train.json\", \"json\")     # 7001"
   ]
  },
  {
   "cell_type": "markdown",
   "metadata": {},
   "source": [
    "## 构建意图识别prompt"
   ]
  },
  {
   "cell_type": "code",
   "execution_count": 2,
   "metadata": {},
   "outputs": [],
   "source": [
    "Intentions = \"\"\"你是一位图数据库语言专家，为了实现将用户自然语言查询转换为图数据库查询语言的目标，你需要首先做到对用户查询的意图识别。\n",
    "所谓意图识别，就是要根据用户的自然语言查询，判断用户希望查询的对象是什么，以及用户希望以怎样的形式返回查询结果。\n",
    "\n",
    "首先，根据图数据库的设计哲学，我们定义用户查询的对象可以分为以下几种类型：\n",
    "（1）节点：图中的实体，比如人、物、地点等。节点可以单独存在。\n",
    "（2）关系：图节点之间的联系，比如人与人之间的关系、物与物之间的关系等。一个关系依赖于两个节点。\n",
    "（3）路径：图中实体与关系的组合，是连通的多个节点和关系。路径可以是简单的两个节点之间的关系，也可以是复杂的多个节点之间的关系。\n",
    "\n",
    "其次，明确用户查询意图中的对象类型、对象定义和约束外，还需要明确用户希望以何种形式返回查询结果。主要有以下几种形式：\n",
    "（1）最常见的情况，是返回满足查询条件的对象的各种属性值，例如返回满足条件的标签为'人'的节点的'name'属性值。\n",
    "（2）对返回对象进行计数、排序、去重、限制数量等操作，例如返回满足条件的节点的个数、对节点的属性值进行排序、限制返回数量为5等。\n",
    "请你根据用户输入的自然语言查询，判断用户查询的对象类型和返回形式。并根据上述类定义以下列示例结构化字典形式返回结果：\n",
    "{   \n",
    "    '对象':  //对象属性，复杂查询中可能有多个节点、关系或列表\n",
    "    '约束' : //对上述定义中标签和属性的约束，例如存在性约束、值约束等\n",
    "    '返回形式': { \n",
    "        '总体形式': '对象整体'或'对象属性', 如果有多个对象，则每个对象一个字典\n",
    "        '聚合操作': '计数'或'求和'或'平均值'或'最大值'或'最小值'，// 没有则填'无',\n",
    "        '是否去重': '是'或'否',\n",
    "        '是否排序': '不排序'或'升序'或'降序',\n",
    "        '是否限制数量'：'否'或具体数量,\n",
    "        '是否跳过前几个'：'否'或具体数量,\n",
    "    }\n",
    "}\n",
    "下面请你根据用户输入的自然语言查询，判断用户查询的对象类型和返回形式。并根据上述类定义以下列示例结构化字典形式返回结果。\n",
    "\"\"\"\n",
    "\n",
    "\n",
    "Input = \"\"\"\n",
    "用户输入：{INPUT}\n",
    "意图识别：\n",
    "\"\"\"\n",
    "\n",
    "\n",
    "Output = \"\"\"\n",
    "对象: {intention},\n",
    "约束: {restrict},\n",
    "返回形式: {return_s}\n",
    "\"\"\""
   ]
  },
  {
   "cell_type": "code",
   "execution_count": 4,
   "metadata": {},
   "outputs": [],
   "source": [
    "def get_return_intention( pasered_dict ):\n",
    "    ret_intent = {\n",
    "        '总体形式': None,               # '对象整体'或'对象属性'                       // 必填\n",
    "        '聚合操作': None,               # '计数'或'求和'或'平均值'或'最大值'或'最小值'，// 没有则填'无'\n",
    "        '是否去重': None,               # '是'或'否'\n",
    "        '是否排序': None,               # '不排序'或'desc'或'asc'\n",
    "        '是否限制数量': None,           # '否'或具体数量\n",
    "        '是否跳过前几个': None,          # '否'或具体数量,\n",
    "    }\n",
    "\n",
    "    # 总体形式\n",
    "    ret_intent['总体形式'] = '对象整体' if '.' not in pasered_dict['return'] else '对象属性'\n",
    "    # 属性值列表\n",
    "    '''\n",
    "    properties = []\n",
    "    for pro in [\".name\", \".location\", \".time\"]:\n",
    "        if pro in pasered_dict['return']:\n",
    "            properties.append( pro[1:] )\n",
    "    ret_intent['属性值列表'] = properties'''\n",
    "    # 聚合操作\n",
    "    aggs = []\n",
    "    for agg in ['count', 'sum', 'avg', 'max', 'min']:\n",
    "        if agg in pasered_dict['return']:\n",
    "            aggs.append( agg )\n",
    "    ret_intent['聚合操作'] = aggs\n",
    "    # 是否去重\n",
    "    ret_intent['是否去重'] = '否' if 'distinct' not in pasered_dict['return'] else '是'\n",
    "    # 是否排序\n",
    "    if 'order by' not in pasered_dict:\n",
    "        ret_intent['是否排序'] = '不排序'  \n",
    "    else:\n",
    "        ret_intent['是否排序'] = '降序' if 'desc' in pasered_dict['order by'] else '升序'\n",
    "    # 是否限制数量\n",
    "    ret_intent['是否限制数量'] = '否' if 'limit' not in pasered_dict else pasered_dict['limit']\n",
    "    # 是否限制数量\n",
    "    ret_intent['是否跳过前几个'] = '否' if 'skip' not in pasered_dict else pasered_dict['skip']\n",
    "    return ret_intent\n",
    "def get_restrict( cypher ):\n",
    "    clause_dict = split_cypher_clauses( cypher.lower() )\n",
    "    if \"where\" in clause_dict:\n",
    "        return clause_dict[\"where\"]\n",
    "    else:\n",
    "        return \"无约束\""
   ]
  },
  {
   "cell_type": "code",
   "execution_count": 5,
   "metadata": {},
   "outputs": [],
   "source": [
    "train_intension_list = load_data( \"trains_intentions.json\", \"json\")\n",
    "test_intension_list = load_data( \"tests_intentions.json\", \"json\")\n",
    "def get_prompt( lists, intension_list, train=True):\n",
    "    ret_list = []\n",
    "    for i in range( len(lists)):\n",
    "        nl = lists[i]['query'].lower()\n",
    "        cypher = lists[i]['cypher'].lower()\n",
    "        intention = intension_list[i]\n",
    "        restrict = get_restrict( cypher )\n",
    "        clause_dict = split_cypher_clauses( cypher )\n",
    "        clause_dict_new, variables  = process_cypher( clause_dict )\n",
    "        return_s = get_return_intention( clause_dict_new )\n",
    "        if train:\n",
    "            prompt = {\n",
    "                \"instruction\": Intentions,\n",
    "                \"input\" : Input.format( INPUT = nl),\n",
    "                \"output\": Output.format( intention = intention, restrict = restrict, return_s = return_s)\n",
    "            }\n",
    "        else:\n",
    "            prompt = Intentions + Input.format( INPUT = nl)\n",
    "        ret_list.append( prompt )\n",
    "    return ret_list\n",
    "ft_list = get_prompt( trains, train_intension_list, train=True)\n",
    "save_data( ft_list, \"MyMethod_SpCQL_ft.json\")\n",
    "\n",
    "prompt_list = get_prompt( tests, test_intension_list, train=False)\n",
    "save_data( prompt_list, \"MyMethod_SpCQL_intention_prompt_list.pickle\")\n",
    "    "
   ]
  },
  {
   "cell_type": "code",
   "execution_count": 6,
   "metadata": {},
   "outputs": [],
   "source": [
    "def get_labels( lists, intension_list ):\n",
    "    ret_list = []\n",
    "    for i in range( len(lists)):\n",
    "        cypher = lists[i]['cypher'].lower()\n",
    "        intention = intension_list[i]\n",
    "        restrict = get_restrict( cypher )\n",
    "        clause_dict = split_cypher_clauses( cypher )\n",
    "        clause_dict_new, variables  = process_cypher( clause_dict )\n",
    "        return_s = get_return_intention( clause_dict_new )\n",
    "        # Output.format( intention = intention, restrict = restrict, return_s = return_s)\n",
    "        ret_list.append( {\n",
    "            \"对象\": intention,\n",
    "            \"约束\": restrict,\n",
    "            \"返回形式\": return_s\n",
    "        } )\n",
    "    return ret_list"
   ]
  },
  {
   "cell_type": "code",
   "execution_count": null,
   "metadata": {},
   "outputs": [],
   "source": [
    "prompt_labels = get_labels( tests, test_intension_list )\n",
    "ft_intention = get_labels( trains, train_intension_list )\n",
    "save_data( ft_intention, \"MyMethod_SpCQL_intention_trains_list.json\")\n",
    "save_data( prompt_labels, \"MyMethod_SpCQL_intention_labels_list.json\")"
   ]
  },
  {
   "cell_type": "markdown",
   "metadata": {},
   "source": [
    "## 从Cypher抽取意图"
   ]
  },
  {
   "cell_type": "code",
   "execution_count": 1,
   "metadata": {},
   "outputs": [],
   "source": [
    "from SpCQL_intention_data import divide_cypher_type, get_left_right, get_two_orient, extract_names_single, extract_names_and_commas\n",
    "from SpCQL_intention_data import get_no_orient, get_single_node, get_union_node, get_other_node, get_path_node, get_not_comma"
   ]
  },
  {
   "cell_type": "code",
   "execution_count": 5,
   "metadata": {},
   "outputs": [],
   "source": [
    "def batch_intention_cypher( cypher_list, test):\n",
    "    paths, single_left, single_right, two_orient, no_orient, single_node, multi_match, others, not_comma_others = divide_cypher_type( cypher_list )\n",
    "    left_intentions_list = get_left_right( single_left, left=True)\n",
    "    right_intentions_list = get_left_right( single_right, left=False)       # test 754  train 2578\n",
    "    two_orient_list = get_two_orient( two_orient, test=test)\n",
    "    no_orient_list = get_no_orient( no_orient )\n",
    "    single_node_list = get_single_node( single_node )\n",
    "    union_node_list = get_union_node( multi_match )\n",
    "    other_node_list = get_other_node( others )\n",
    "    path_list = get_path_node( paths )\n",
    "    if not test:\n",
    "        not_comma_list = get_not_comma( not_comma_others )\n",
    "    else:\n",
    "        not_comma_list = []\n",
    "\n",
    "    # 后处理\n",
    "    test_intentions_dict = {}\n",
    "    for lists in [left_intentions_list, right_intentions_list, two_orient_list, no_orient_list, single_node_list,\n",
    "                union_node_list, other_node_list, path_list, not_comma_list]:\n",
    "        for i in range( len(lists)):\n",
    "            index = lists[i][0]\n",
    "            intens = lists[i][1]\n",
    "            test_intentions_dict[ index ] = intens\n",
    "    test_intentions_dlisty = [ test_intentions_dict[i] for i in range(len(test_intentions_dict))]\n",
    "    return test_intentions_dlisty\n",
    "\n",
    "test_intentions_dlisty = batch_intention_cypher( tests, test=True)"
   ]
  },
  {
   "cell_type": "code",
   "execution_count": 6,
   "metadata": {},
   "outputs": [],
   "source": [
    "save_data( test_intentions_dlisty, \"tests_intentions.json\")"
   ]
  }
 ],
 "metadata": {
  "kernelspec": {
   "display_name": "t2c",
   "language": "python",
   "name": "python3"
  },
  "language_info": {
   "codemirror_mode": {
    "name": "ipython",
    "version": 3
   },
   "file_extension": ".py",
   "mimetype": "text/x-python",
   "name": "python",
   "nbconvert_exporter": "python",
   "pygments_lexer": "ipython3",
   "version": "3.13.1"
  }
 },
 "nbformat": 4,
 "nbformat_minor": 2
}
