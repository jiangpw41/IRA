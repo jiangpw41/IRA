{
 "cells": [
  {
   "cell_type": "code",
   "execution_count": 48,
   "metadata": {},
   "outputs": [],
   "source": [
    "from wayne_utils import load_data, save_data\n",
    "import ast\n",
    "import os\n",
    "import re\n",
    "from tqdm import tqdm\n",
    "os.chdir( \"/home/jiangpeiwen2/jiangpeiwen2/NL2GQL/exec_post\" )\n",
    "from nebula_execute import DB_execute\n",
    "os.chdir( \"/home/jiangpeiwen2/jiangpeiwen2/NL2GQL/methods/MyMethod/N3/align_db\" )\n",
    "from utils import aligned_or_not, obj_type_diff, get_all_node_name, statistic_obj_len\n",
    "from copy import deepcopy\n"
   ]
  },
  {
   "cell_type": "markdown",
   "metadata": {},
   "source": [
    "## 加载数据并初步评估: mix_intention_list， intention_labels_list"
   ]
  },
  {
   "cell_type": "code",
   "execution_count": 57,
   "metadata": {},
   "outputs": [],
   "source": [
    "tests = load_data( \"/home/jiangpeiwen2/jiangpeiwen2/NL2GQL/data/N3/test_data_shuffle.jsonl\", \"jsonl\")\n",
    "trains = load_data( \"/home/jiangpeiwen2/jiangpeiwen2/NL2GQL/data/N3/train_data_shuffle.jsonl\", \"jsonl\")\n",
    "datasets_schema = load_data( \"/home/jiangpeiwen2/jiangpeiwen2/NL2GQL/methods/MyMethod/N3/edge_vertex.json\", \"json\")\n",
    "test_nl_list = [ tests[i]['prompt'].strip() for i in range(len(tests))]\n",
    "train_nl_list = [ trains[i]['prompt'] for i in range(len(trains))]\n",
    "test_gql_list = [ tests[i][\"content\"] for i in range(len(tests))]       # 1254  # 去重后511\n",
    "train_gql_list = [ trains[i][\"content\"] for i in range(len(trains))]    # 3862  # 822\n",
    "\n",
    "names_space = load_data( \"/home/jiangpeiwen2/jiangpeiwen2/NL2GQL/data/N3/space_name.json\", \"json\")\n",
    "\n",
    "EA_list = load_data( \"/home/jiangpeiwen2/jiangpeiwen2/NL2GQL/methods/MyMethod/N3/intentions/intention_extract/intention_aligned_EA_list.json\", \"json\")"
   ]
  },
  {
   "cell_type": "code",
   "execution_count": 58,
   "metadata": {},
   "outputs": [],
   "source": [
    "intention_temp = {\n",
    "    \"查询对象\":[],\n",
    "    \"查询约束\":[],\n",
    "    \"返回格式\":{\n",
    "        \"distinct\": None,\n",
    "        \"aggregation\": [],\n",
    "        \"order by\": None,\n",
    "        \"limit\": None,\n",
    "        \"skip\": None\n",
    "    }\n",
    "}\n",
    "'''初始意图\n",
    "intention_predicts_str_list = load_data( \"/home/jiangpeiwen2/jiangpeiwen2/NL2GQL/methods/MyMethod/N3/intentions/prompt_ft/rec_predict_list_N3_intention_rec_Chinese-Mistral-7B-Instruct-v0.1-1.5epoch.pickle\", \"pickle\")\n",
    "#intention_predicts_str_list = [intention_predicts_raw[i][0].strip() for i in range(len(intention_predicts_raw))]\n",
    "intention_predicts_str_list[298] = \"\"\"{'查询对象': [{'category': 'edge', 'label': ['serve'], 'start_node': {'label': []}, 'end_node': {'label': []}}], '查询约束': [\"(ID(v) == 'Paul Gasol')\"], '返回格式': {'distinct': False, 'aggregation': [], 'order by': None, 'limit': None, 'skip': None}}\"\"\"\n",
    "intention_predicts_str_list[309] = \"{'查询对象': [{'category': 'path', 'start_node_id_list': ['Tim Duncan'], 'edge_type_list': ['like'], 'length': None, 'have_direction': True}, {'category': 'path', 'start_node_id_list': ['Tim Duncan'], 'edge_type_list': ['serve'], 'length': '2 steps', 'have_direction': True}], '查询约束': [], '返回格式': {'distinct': False, 'aggregation': [], 'order by': None, 'limit': None, 'skip': None}}\"\n",
    "intention_predicts_str_list[501] = \"{'查询对象': [{'category': 'edge', 'label': ['accompany_with'], 'start_node': {'label': ['disease'], 'name': '高血压'}, 'end_node': {'label': ['disease'], 'name': '待查询'}}], '查询约束': [], '返回格式': {'distinct': False, 'aggregation': [], 'order by': None, 'limit': None, 'skip': None}}\"\n",
    "intention_predicts_str_list[774] = \"{'查询对象': [{'category': 'edge', 'label': ['accompany_with'], 'start_node': {'label': ['disease'], 'name': '高血压'}, 'end_node': {'label': ['disease'], 'name': '待查询'}}], '查询约束': [], '返回格式': {'distinct': False, 'aggregation': [], 'order by': None, 'limit': None, 'skip': None}}\"\n",
    "intention_predicts_str_list[957] = \"{'查询对象': [{'category': 'edge', 'label': ['accompany_with'], 'start_node': {'label': ['disease'], 'name': '高血压'}, 'end_node': {'label': ['disease'], 'name': '待查询'}}], '查询约束': [], '返回格式': {'distinct': False, 'aggregation': [], 'order by': None, 'limit': None, 'skip': None}}\"\n",
    "\n",
    "no_ok_list = []\n",
    "for i in range(len(intention_predicts_str_list)):\n",
    "    try:        # 1244 / 1254\n",
    "        if intention_predicts_str_list[i] == \"写数据库\":\n",
    "            # [19,125,135,171,382,422,592,682,785,1219]\n",
    "            #print(i)\n",
    "            intention_predicts_list.append(intention_temp)\n",
    "        else:\n",
    "            intention_predicts_list.append( ast.literal_eval(intention_predicts_str_list[i]) )\n",
    "    except:\n",
    "        intention_predicts_list.append( intention_predicts_str_list[i])\n",
    "        no_ok_list.append( i )\n",
    "\n",
    "'''\n",
    "intention_labels_list = load_data( \"/home/jiangpeiwen2/jiangpeiwen2/NL2GQL/methods/MyMethod/N3/intentions/intention_extract/intentions_label_test.json\", \"json\")\n",
    "intention_predicts_list = load_data( \"/home/jiangpeiwen2/jiangpeiwen2/NL2GQL/methods/MyMethod/N3/intentions/intention_extract/intention_aligned_2.json\", \"json\")\n",
    "\n",
    "\n",
    "for i in range(len(intention_labels_list)):\n",
    "    if isinstance( intention_labels_list[i], str):\n",
    "        intention_labels_list[i] = intention_temp"
   ]
  },
  {
   "cell_type": "code",
   "execution_count": 59,
   "metadata": {},
   "outputs": [
    {
     "name": "stdout",
     "output_type": "stream",
     "text": [
      "总数1254，完全一致数量530\n",
      "查询对象一致数量632，\n",
      "查询约束一致数量931，\n",
      "返回格式一致数量1112，\n"
     ]
    }
   ],
   "source": [
    "\"\"\"\n",
    "初始意图：\n",
    "总数1254，完全一致数量469\n",
    "查询对象一致数量565，\n",
    "查询约束一致数量928，\n",
    "返回格式一致数量1112、\n",
    "\n",
    "第二次对齐后的意图\n",
    "总数1254，完全一致数量530\n",
    "查询对象一致数量632，\n",
    "查询约束一致数量931，\n",
    "返回格式一致数量1112，\n",
    "\"\"\"\n",
    "first_aligned_list = load_data( \"/home/jiangpeiwen2/jiangpeiwen2/NL2GQL/methods/MyMethod/N3/intentions/intention_extract/intention_aligned.json\", \"json\")\n",
    "not_aligned_list, related_objects, restrict, return_format = aligned_or_not( intention_predicts_list,intention_labels_list )"
   ]
  },
  {
   "cell_type": "code",
   "execution_count": 60,
   "metadata": {},
   "outputs": [
    {
     "name": "stdout",
     "output_type": "stream",
     "text": [
      "总数1254，完全一致数量530\n",
      "查询对象一致数量632，\n",
      "查询约束一致数量931，\n",
      "返回格式一致数量1112，\n"
     ]
    }
   ],
   "source": [
    "intention_not_aligned = load_data( \"/home/jiangpeiwen2/jiangpeiwen2/NL2GQL/methods/MyMethod/N3/intentions/intention_extract/intention_not_aligned.json\", \"json\")\n",
    "mix_intention_list = []\n",
    "for i in range(len(intention_predicts_list)):\n",
    "    if i not in not_aligned_list:\n",
    "        mix_intention_list.append( intention_predicts_list[i])\n",
    "    else:\n",
    "        temp = {}\n",
    "        temp[\"查询对象\"] = intention_predicts_list[i][\"查询对象\"] if i not in related_objects else intention_not_aligned[i][\"查询对象\"]\n",
    "        temp[\"查询约束\"] = intention_predicts_list[i][\"查询约束\"] if i not in restrict else intention_not_aligned[i][\"查询约束\"]\n",
    "        temp[\"返回格式\"] = intention_predicts_list[i][\"返回格式\"] if i not in return_format else intention_not_aligned[i][\"返回格式\"]\n",
    "        mix_intention_list.append( temp )\n",
    "\n",
    "not_aligned_list, related_objects, restrict, return_format = aligned_or_not( mix_intention_list,intention_labels_list )"
   ]
  },
  {
   "cell_type": "markdown",
   "metadata": {},
   "source": [
    "## Faiss引擎构建"
   ]
  },
  {
   "cell_type": "code",
   "execution_count": 9,
   "metadata": {},
   "outputs": [],
   "source": [
    "space_edge_list = {\n",
    "    \"nba\": ['teammate', 'serve', 'like'],\n",
    "    \"potter\": [\"belong_to\", \"kindred\", \"learn_from\"],\n",
    "    \"disease\":[\n",
    "        'accompany_with',\n",
    "        'cure_department',\n",
    "        'cure_way',\n",
    "        'recommend_eat',\n",
    "        'has_symptom',\n",
    "        'need_check',\n",
    "        'no_eat',\n",
    "        'recommend_drug'\n",
    "    ]\n",
    "}"
   ]
  },
  {
   "cell_type": "code",
   "execution_count": 10,
   "metadata": {},
   "outputs": [],
   "source": [
    "label_property_dict = {\n",
    "    \"potter\": {                 # 围绕角色询问，角色的属性、关系\n",
    "        \"node\":{\n",
    "            'characters':['name', 'born', 'dead', 'blood', 'marital', 'species', 'gender', 'height', 'hair', 'eye'],     # 670，角色id, 名称、生日、死亡日期、血型、配偶、物种、性别、高度、发型色、眼睛色\n",
    "            'college': ['name'],        # 学院：8, id, name\n",
    "            'group':['name']            # 家族：261\n",
    "        },\n",
    "        \"edge\":{\n",
    "            'belong_to':[],             # 隶属于：959，character - college/group\n",
    "            'kindred':['rel_type'],               # 亲属关系及其类型：1924，character - character\n",
    "            'learn_from':[]             # 在哪里学习：140，character - group\n",
    "        }\n",
    "    },\n",
    "    \"nba\": {            # 围绕球员提问，\n",
    "        \"node\": {\n",
    "            'player':['name', 'age'],               # 球员：52，名、年龄\n",
    "            'team':['name'],                        # 球队名：30\n",
    "            'bachelor':['name','speciality']        # 学士学位：1，专业\n",
    "        },\n",
    "        \"edge\":{\n",
    "            'like':['likeness'],                    # 喜欢程度：82，球员-球员\n",
    "            'serve':['start_year', 'end_year'],     # 服役：152,球员 - 球队，起止年\n",
    "            'teammate':['start_year', 'end_year']   # 队友关系：10，球员-球员，起止年\n",
    "        }\n",
    "    },\n",
    "    \"disease\": {                        # 围绕疾病询问相关问题\n",
    "        \"node\":{\n",
    "            'drug':['name'],            # 药物，3829\n",
    "            'disease':['name', 'describe', 'prevent', 'cause', 'easy_get', 'cure_lasttime', 'symptom', 'cured_prob', 'get_prob'],   # 8809 疾病，描述、预防、原因、易感人群、治疗期、症状、治愈概率、得病概率\n",
    "            'food':['name'],            # 食物，4871\n",
    "            'check':['name'],           # 检查方法，3354\n",
    "            'department':['name'],      # 门诊部门，55\n",
    "            'producer':['name'],        # 制造商？实际是药物名，如开封制药苯妥英钠片 17202\n",
    "            'symptom':['name'],         # 症状 5999\n",
    "            'cure':['name']             # 治疗方法 545\n",
    "        },\n",
    "        \"edge\":{\n",
    "            'accompany_with':[],        # 12025 疾病的伴生症状  disease - disease, symptom\n",
    "            'cure_department':[],       # 8807  疾病的治疗门诊  disease - department\n",
    "            'cure_way':[],              # 21084 疾病的治疗方法  disease - cure\n",
    "            'recommend_eat':[],         # 40222 疾病推荐的食物  disease - food\n",
    "            'has_symptom':[],           # 54711 疾病的症状      disease - symptom\n",
    "            'need_check':[],            # 39419 疾病需检查      disease - check\n",
    "            'no_eat':[],                # 22240 疾病禁食用      disease - food\n",
    "            'recommend_drug':[]         # 14648 疾病常用药物    disease - drug\n",
    "        }\n",
    "    }\n",
    "}\n",
    "name_dict = {}\n",
    "\n",
    "total_path = \"/home/jiangpeiwen2/jiangpeiwen2/projects/N3_db_construction/dataset\"\n",
    "for space_name in [\"disease\", \"nba\", \"potter\"]:\n",
    "    name_dict[space_name] = {}\n",
    "    dir_name = space_name if space_name in [\"disease\", \"nba\"] else \"harrypotter\"\n",
    "    file_path = os.path.join( total_path, f\"{dir_name}/data\")\n",
    "    for entity in label_property_dict[space_name][\"node\"].keys():\n",
    "        \n",
    "        lists = load_data( os.path.join( file_path, f\"{entity}.csv\"), \"csv\")\n",
    "        if entity == \"characters\":\n",
    "            entity = \"character\"\n",
    "        key_list = lists.keys()\n",
    "        _name = \"name\"\n",
    "        if \"name\" not in key_list:\n",
    "            for item in key_list:\n",
    "                if \"name\" in item:\n",
    "                    _name = item\n",
    "                    break\n",
    "    \n",
    "        try:\n",
    "            \n",
    "            name_dict[space_name][entity] = list( lists[_name])\n",
    "        except:\n",
    "            raise Exception( os.path.join( file_path, f\"{entity}.csv\") )"
   ]
  },
  {
   "cell_type": "code",
   "execution_count": 1,
   "metadata": {},
   "outputs": [
    {
     "name": "stderr",
     "output_type": "stream",
     "text": [
      "/home/jiangpeiwen2/jiangpeiwen2/miniconda3/envs/n3/lib/python3.9/site-packages/tqdm/auto.py:21: TqdmWarning: IProgress not found. Please update jupyter and ipywidgets. See https://ipywidgets.readthedocs.io/en/stable/user_install.html\n",
      "  from .autonotebook import tqdm as notebook_tqdm\n"
     ]
    }
   ],
   "source": [
    "from embedding_retrieving import Embedding\n",
    "import os\n",
    "os.environ[\"CUDA_VISIBLE_DEVICES\"] = \"0\""
   ]
  },
  {
   "cell_type": "code",
   "execution_count": 11,
   "metadata": {},
   "outputs": [],
   "source": [
    "# 检查并导入 FAISS 库（根据系统配置选择是否使用 AVX2 优化）\n",
    "import os\n",
    "from enum import Enum\n",
    "import numpy as np\n",
    "\n",
    "\n",
    "from collections import OrderedDict\n",
    "\n",
    "\"\"\"\n",
    "Two levels of retrieval:\n",
    "One way is to calculate the score by editing the distance\n",
    "Another way is to calculate scores based on the similarity of embedding vectors\n",
    "\"\"\"\n",
    "def dependable_faiss_import(no_avx2=None):\n",
    "    \"\"\"\n",
    "    检查并导入 FAISS 库（根据系统配置选择是否使用 AVX2 优化）。\n",
    "    如果 no_avx2 为真，或环境变量 FAISS_NO_AVX2 被设置，则加载非 AVX2 版本的 FAISS。\n",
    "    如果导入失败，则抛出提示用户安装 FAISS 的异常。\n",
    "\n",
    "    Args:\n",
    "        no_avx2: Load Faiss strictly with no AVX2 optimization\n",
    "            so that the vector store is portable and compatible with other devices.\n",
    "    \"\"\"\n",
    "    if no_avx2 is None and \"FAISS_NO_AVX2\" in os.environ:\n",
    "        no_avx2 = bool(os.getenv(\"FAISS_NO_AVX2\"))\n",
    "\n",
    "    try:\n",
    "        if no_avx2:\n",
    "            from faiss import swigfaiss as faiss\n",
    "        else:\n",
    "            import faiss\n",
    "    except ImportError:\n",
    "        raise ImportError(\n",
    "            \"Could not import the Faiss Python package. \"\n",
    "            \"Please install it with `pip install faiss-gpu` (for CUDA supported GPU) \"\n",
    "            \"or `pip install faiss-cpu` (depending on Python version).\"\n",
    "        )\n",
    "    return faiss"
   ]
  },
  {
   "cell_type": "code",
   "execution_count": 12,
   "metadata": {},
   "outputs": [],
   "source": [
    "# 构建、维护和使用 FAISS 向量检索索引。\n",
    "class FAISS_R3:\n",
    "    def __init__(self, embedding_list, string_list, topk=1):\n",
    "        \"\"\"\n",
    "        embeddings: 待检索的嵌入向量（一个嵌入向量的列表）。\n",
    "        doc_store: 节点的元信息（如 CSV 数据），包含其他与嵌入关联的文档信息。\n",
    "        \"\"\"\n",
    "        self.faiss = dependable_faiss_import()\n",
    "        self.distance_strategy = \"EUCLIDEAN_DISTANCE\"                          # 根据 DISTANCE_STRATEGY（config中配置为欧氏距离EUCLIDEAN_DISTANCE），初始化 FAISS 索引\n",
    "        self.embedding_list = embedding_list\n",
    "        self.string_list = string_list\n",
    "        self.index = None\n",
    "        self.normalize_L2 = False\n",
    "        self.top_k = topk\n",
    "        self.key_list = string_list\n",
    "        self.index = self.faiss.IndexFlatL2(len(embedding_list[0]))\n",
    "\n",
    "\n",
    "    def add_all(self):\n",
    "        \"\"\"将所有的嵌入向量添加到 FAISS 索引中。\n",
    "        支持向量的 L2 正则化（归一化）\n",
    "        将 embeddings 转换为 float32 类型以兼容 FAISS。\"\"\"\n",
    "        vector = np.array(self.embedding_list, dtype=np.float32)\n",
    "        if self.normalize_L2:\n",
    "            self.faiss.normalize_L2(vector)\n",
    "        self.index.add(vector)\n",
    "\n",
    "    def search(self, query):\n",
    "        \"\"\"基于向量相似性，检索最接近的文档。\n",
    "        (1)使用 Embedding().embedding_query(query) 将查询转为嵌入向量\n",
    "        (2)调用 FAISS 索引的 search 方法找到 top_k 个最相似的嵌入。\"\"\"\n",
    "        top_k = self.top_k\n",
    "        query_emb = Embedding().embedding_query(query)\n",
    "        query_emb = np.array(query_emb, dtype=np.float32)\n",
    "        distance, idx = self.index.search(query_emb.reshape(1, -1), k=top_k)\n",
    "        topk_string = [self.key_list[i] for i in idx[0]]\n",
    "        return topk_string[0], distance[0][0]\n",
    "    \n",
    "    def search_string(self, query):\n",
    "        \"\"\"基于向量相似性，检索最接近的文档。\n",
    "        (1)使用 Embedding().embedding_query(query) 将查询转为嵌入向量\n",
    "        (2)调用 FAISS 索引的 search 方法找到 top_k 个最相似的嵌入。\"\"\"\n",
    "        if query in self.string_list:\n",
    "            return query\n",
    "        else:\n",
    "            # 完全匹配\n",
    "            for i in range(len(self.string_list)):\n",
    "                string = self.string_list[i]\n",
    "                if string.lower() == query.lower():\n",
    "                    return string\n",
    "            # 被包含匹配\n",
    "            for i in range(len(self.string_list)):\n",
    "                string = self.string_list[i]\n",
    "                if len(query ) > 2 and query.lower() in string.lower():\n",
    "                    return string\n",
    "            # 包含匹配\n",
    "            for i in range(len(self.string_list)):\n",
    "                string = self.string_list[i]\n",
    "                if string.lower() in query.lower():\n",
    "                    return string\n",
    "        return \"未找到\""
   ]
  },
  {
   "cell_type": "code",
   "execution_count": 13,
   "metadata": {},
   "outputs": [],
   "source": [
    "class Db_instance_retriever():\n",
    "    def __init__( self, name_dict ):\n",
    "        self.name_dict = name_dict\n",
    "        self.embedder = Embedding()\n",
    "        self.embedding_name_dict = {}\n",
    "        self.embedding_dict()\n",
    "\n",
    "    def embedding_dict( self ):\n",
    "        print( \"Embedding all query dict\")\n",
    "        for space_name in self.name_dict.keys():        # nba, potter, disease\n",
    "            self.embedding_name_dict[space_name] = {}\n",
    "            for label in self.name_dict[space_name].keys():\n",
    "                print( f\"Embedding {space_name}---{label}\")\n",
    "                string_list = self.name_dict[space_name][label]\n",
    "                embedding_list = self.embedder.embedding(string_list )\n",
    "                self.embedding_name_dict[space_name][ label ] = FAISS_R3( embedding_list, string_list)\n",
    "                self.embedding_name_dict[space_name][ label ].add_all()\n",
    "\n",
    "    def align_string( self, query, space_name, label = None):\n",
    "        if label != None:\n",
    "            sub_faiss = self.embedding_name_dict[ space_name ][label]\n",
    "            string = sub_faiss.search_string(query)\n",
    "            if string == \"未找到\":\n",
    "                print( f\"字符串匹配未找到，进行embedding检索\")\n",
    "                ans, distance = sub_faiss.search(query)\n",
    "                return ans\n",
    "            else:\n",
    "                return string\n",
    "        else:\n",
    "            space_dict = self.embedding_name_dict[ space_name ]\n",
    "            # 先遍历字符串检索\n",
    "            for label in space_dict.keys():\n",
    "                sub_faiss = space_dict[label]\n",
    "                string = sub_faiss.search_string(query)\n",
    "                if string != \"未找到\":\n",
    "                    return string\n",
    "            # 再相似度检索\n",
    "            max_dis, max_dis_string = 0, None\n",
    "            for label in space_dict.keys():\n",
    "                sub_faiss = space_dict[label]\n",
    "                ans, distance = sub_faiss.search(query)\n",
    "                if distance > max_dis:\n",
    "                    max_dis = distance\n",
    "                    max_dis_string = ans\n",
    "            return max_dis_string\n",
    "            "
   ]
  },
  {
   "cell_type": "code",
   "execution_count": 14,
   "metadata": {},
   "outputs": [
    {
     "name": "stdout",
     "output_type": "stream",
     "text": [
      "Embedding all query dict\n",
      "Embedding disease---drug\n",
      "An unexpected error occurred.\n"
     ]
    },
    {
     "name": "stderr",
     "output_type": "stream",
     "text": [
      "Embedding: 100%|██████████| 383/383 [00:06<00:00, 62.16it/s]\n"
     ]
    },
    {
     "name": "stdout",
     "output_type": "stream",
     "text": [
      "Embedding disease---disease\n",
      "An unexpected error occurred.\n"
     ]
    },
    {
     "name": "stderr",
     "output_type": "stream",
     "text": [
      "Embedding: 100%|██████████| 881/881 [00:11<00:00, 75.67it/s]\n"
     ]
    },
    {
     "name": "stdout",
     "output_type": "stream",
     "text": [
      "Embedding disease---food\n",
      "An unexpected error occurred.\n"
     ]
    },
    {
     "name": "stderr",
     "output_type": "stream",
     "text": [
      "Embedding: 100%|██████████| 487/487 [00:06<00:00, 76.65it/s]\n"
     ]
    },
    {
     "name": "stdout",
     "output_type": "stream",
     "text": [
      "Embedding disease---check\n",
      "An unexpected error occurred.\n"
     ]
    },
    {
     "name": "stderr",
     "output_type": "stream",
     "text": [
      "Embedding: 100%|██████████| 336/336 [00:04<00:00, 77.50it/s]\n"
     ]
    },
    {
     "name": "stdout",
     "output_type": "stream",
     "text": [
      "Embedding disease---department\n",
      "An unexpected error occurred.\n"
     ]
    },
    {
     "name": "stderr",
     "output_type": "stream",
     "text": [
      "Embedding: 100%|██████████| 6/6 [00:00<00:00, 67.04it/s]\n"
     ]
    },
    {
     "name": "stdout",
     "output_type": "stream",
     "text": [
      "Embedding disease---producer\n",
      "An unexpected error occurred.\n"
     ]
    },
    {
     "name": "stderr",
     "output_type": "stream",
     "text": [
      "Embedding: 100%|██████████| 1721/1721 [00:22<00:00, 77.84it/s]\n"
     ]
    },
    {
     "name": "stdout",
     "output_type": "stream",
     "text": [
      "Embedding disease---symptom\n",
      "An unexpected error occurred.\n"
     ]
    },
    {
     "name": "stderr",
     "output_type": "stream",
     "text": [
      "Embedding: 100%|██████████| 600/600 [00:08<00:00, 74.76it/s]\n"
     ]
    },
    {
     "name": "stdout",
     "output_type": "stream",
     "text": [
      "Embedding disease---cure\n",
      "An unexpected error occurred.\n"
     ]
    },
    {
     "name": "stderr",
     "output_type": "stream",
     "text": [
      "Embedding: 100%|██████████| 55/55 [00:00<00:00, 78.59it/s]\n"
     ]
    },
    {
     "name": "stdout",
     "output_type": "stream",
     "text": [
      "Embedding nba---player\n",
      "An unexpected error occurred.\n"
     ]
    },
    {
     "name": "stderr",
     "output_type": "stream",
     "text": [
      "Embedding: 100%|██████████| 6/6 [00:00<00:00, 73.65it/s]\n"
     ]
    },
    {
     "name": "stdout",
     "output_type": "stream",
     "text": [
      "Embedding nba---team\n",
      "An unexpected error occurred.\n"
     ]
    },
    {
     "name": "stderr",
     "output_type": "stream",
     "text": [
      "Embedding: 100%|██████████| 3/3 [00:00<00:00, 83.03it/s]\n"
     ]
    },
    {
     "name": "stdout",
     "output_type": "stream",
     "text": [
      "Embedding nba---bachelor\n",
      "An unexpected error occurred.\n"
     ]
    },
    {
     "name": "stderr",
     "output_type": "stream",
     "text": [
      "Embedding: 100%|██████████| 1/1 [00:00<00:00, 90.50it/s]\n"
     ]
    },
    {
     "name": "stdout",
     "output_type": "stream",
     "text": [
      "Embedding potter---character\n",
      "An unexpected error occurred.\n"
     ]
    },
    {
     "name": "stderr",
     "output_type": "stream",
     "text": [
      "Embedding: 100%|██████████| 67/67 [00:00<00:00, 77.43it/s]\n"
     ]
    },
    {
     "name": "stdout",
     "output_type": "stream",
     "text": [
      "Embedding potter---college\n",
      "An unexpected error occurred.\n"
     ]
    },
    {
     "name": "stderr",
     "output_type": "stream",
     "text": [
      "Embedding: 100%|██████████| 1/1 [00:00<00:00, 84.31it/s]\n"
     ]
    },
    {
     "name": "stdout",
     "output_type": "stream",
     "text": [
      "Embedding potter---group\n",
      "An unexpected error occurred.\n"
     ]
    },
    {
     "name": "stderr",
     "output_type": "stream",
     "text": [
      "Embedding: 100%|██████████| 27/27 [00:00<00:00, 75.93it/s]\n"
     ]
    }
   ],
   "source": [
    "r3_retriever = Db_instance_retriever( name_dict )"
   ]
  },
  {
   "cell_type": "markdown",
   "metadata": {},
   "source": [
    "## 对齐函数构建"
   ]
  },
  {
   "cell_type": "code",
   "execution_count": 67,
   "metadata": {},
   "outputs": [
    {
     "data": {
      "text/plain": [
       "[{'category': 'node',\n",
       "  'label': ['disease'],\n",
       "  'name': '幼年型慢性关节炎及其伴发的葡萄膜炎',\n",
       "  'id': '待查询'}]"
      ]
     },
     "execution_count": 67,
     "metadata": {},
     "output_type": "execute_result"
    }
   ],
   "source": [
    "intention_predict['查询对象']"
   ]
  },
  {
   "cell_type": "code",
   "execution_count": 68,
   "metadata": {},
   "outputs": [
    {
     "data": {
      "text/plain": [
       "[{'category': 'node',\n",
       "  'label': ['disease'],\n",
       "  'name': '幼年型慢性关节炎及其伴发的葡萄膜炎',\n",
       "  'id': '待查询'}]"
      ]
     },
     "execution_count": 68,
     "metadata": {},
     "output_type": "execute_result"
    }
   ],
   "source": [
    "index = 1009\n",
    "intention_predict = intention_predicts_list[index]\n",
    "intention_label = intention_labels_list[index]\n",
    "query = test_nl_list[index]\n",
    "align_obj( intention_predict['查询对象'], intention_label['查询对象'], query, index)"
   ]
  },
  {
   "cell_type": "code",
   "execution_count": 69,
   "metadata": {},
   "outputs": [
    {
     "data": {
      "text/plain": [
       "{'查询对象': [{'category': 'node',\n",
       "   'label': ['disease'],\n",
       "   'name': '幼年型慢性关节炎及其伴发的葡萄膜炎',\n",
       "   'get_prob': '待查询'}],\n",
       " '查询约束': [],\n",
       " '返回格式': {'distinct': False,\n",
       "  'aggregation': [],\n",
       "  'order by': None,\n",
       "  'limit': None,\n",
       "  'skip': None}}"
      ]
     },
     "execution_count": 69,
     "metadata": {},
     "output_type": "execute_result"
    }
   ],
   "source": [
    "intention_label"
   ]
  },
  {
   "cell_type": "code",
   "execution_count": 32,
   "metadata": {},
   "outputs": [],
   "source": [
    "def extract_quoted_strings(s):\n",
    "    \"\"\"\n",
    "    提取字符串中单引号或双引号中的子字符串。\n",
    "\n",
    "    :param s: 输入字符串\n",
    "    :return: 包含子字符串的列表\n",
    "    \"\"\"\n",
    "    # 使用正则表达式匹配单引号或双引号中的内容\n",
    "    pattern = r\"(['\\\"])(.*?)(\\1)\"\n",
    "    matches = re.findall(pattern, s)\n",
    "    # 返回匹配组中的实际内容部分\n",
    "    return [match[1] for match in matches]"
   ]
  },
  {
   "cell_type": "code",
   "execution_count": 54,
   "metadata": {},
   "outputs": [],
   "source": [
    "def align_obj( intention_predict, intention_label, query, index):\n",
    "    \"\"\"总数1254，582个obj一致，672个obj不一致{1: 592, 2: 73, 0: 3, 3: 4}\n",
    "    727个不一致，其中108长度不一致；长度一致的619中长度{1: 607, 2: 12}，273个type不一致(都是长度为1)，所以长度为1且type一致的有279\n",
    "    \"\"\"\n",
    "    # 获取该query对应的space\n",
    "    obj_predict = intention_predict['查询对象']\n",
    "    obj_label = intention_label['查询对象']\n",
    "    space_name = names_space[index]\n",
    "    # 返回的列表\n",
    "    ret_obj_list = []\n",
    "    \n",
    "    for i in range(len(obj_predict)):\n",
    "        \"\"\"\n",
    "        \"category\": \"edge\",\n",
    "        \"label\": [\"kindred\"],\n",
    "        \"rel_type\": intention['restrict'][0].split(\"==\")[1].strip(),\n",
    "        或者\n",
    "        \n",
    "        \"\"\"\n",
    "        # 处理path edge划分上的模糊\n",
    "        if i == 0 and len(obj_label) == 1 and len(obj_predict) == 1 and obj_predict[0][\"category\"] == \"edge\" and obj_label[0][\"category\"] == \"path\":\n",
    "            if 'start_node_id_list' in obj_label[0]:\n",
    "                new_obj = trans_edge_to_path( obj_predict[0] )\n",
    "                if len(intention_predict[\"查询约束\"]) == 1 and \"==\" in intention_predict[\"查询约束\"][0] and \"id\" in intention_predict[\"查询约束\"][0]:\n",
    "                    name_ = extract_quoted_strings(intention_predict[\"查询约束\"][0])\n",
    "                    intention_predict[\"查询约束\"] = []\n",
    "                    new_obj['start_node_id_list'].extend( name_)\n",
    "            else:\n",
    "                new_obj = deepcopy( obj_predict[i] )\n",
    "                new_obj[\"category\"] = \"path\"\n",
    "        else:\n",
    "            new_obj = deepcopy( obj_predict[i] )\n",
    "        # 获取type\n",
    "        _type = new_obj[\"category\"]\n",
    "        if _type not in ['edge', 'path', 'node', 'sub_graph']:\n",
    "            continue\n",
    "        # 获取label\n",
    "        if 'label' in new_obj and set(new_obj['label']) == set(space_edge_list[space_name]):\n",
    "            new_obj[\"label\"] = []\n",
    "        if \"label\" in new_obj:\n",
    "            _label = new_obj[\"label\"]\n",
    "            if isinstance( _label, str):\n",
    "                label = _label\n",
    "            elif isinstance( _label, list) and len(_label)==1:\n",
    "                label = _label[0]\n",
    "            else:\n",
    "                label = None\n",
    "        else:\n",
    "            label = None\n",
    "        \n",
    "        # 处理sex属性\n",
    "        if \"sex\" in new_obj:\n",
    "            value = new_obj[\"sex\" ]\n",
    "            del new_obj[\"sex\"]\n",
    "            new_obj[\"gender\" ] = value\n",
    "        # 处理有空\n",
    "        if 'cured_prob ' in new_obj:\n",
    "            value = new_obj['cured_prob ' ]\n",
    "            del new_obj['cured_prob ']\n",
    "            new_obj['cured_prob' ] = value\n",
    "        # 处理edge没有方向\n",
    "        if _type == \"edge\" and \"have_direction\" not in new_obj:\n",
    "            if len(obj_label) > i:\n",
    "                if \"have_direction\" in obj_label[i]:\n",
    "                    new_obj[\"have_direction\"] = True\n",
    "        \n",
    "        for key in new_obj.keys():\n",
    "            if key not in [\"category\", \"label\"]:\n",
    "                value = new_obj[key]\n",
    "                # 处理edge_type_list特殊情况\n",
    "                if key == 'edge_type_list':\n",
    "                    if not isinstance( value, list):\n",
    "                        new_obj[key] = None\n",
    "                    else:\n",
    "                        # 罗列出全部关系则不指名\n",
    "                        if set(new_obj[key]) == set(space_edge_list[space_name]):\n",
    "                            new_obj[key] = None\n",
    "                # 处理对象中的起点和终点字典\n",
    "                elif isinstance( value, dict):\n",
    "                    if key in [\"start_node\", \"end_node\"]:\n",
    "                        temp_label = None\n",
    "                        # 检查start_node点的合规情况\n",
    "                        if \"label\" in value:\n",
    "                            if len( value[\"label\"] ) == 1:\n",
    "                                temp_label = value[\"label\"][0]\n",
    "                            elif len( value[\"label\"] ) == 0:\n",
    "                                temp_label = None\n",
    "                            else:\n",
    "                                raise Exception( f\"{index}: 错误的start_node标签长度：{value}\")\n",
    "                        else:\n",
    "                            raise Exception( f\"{index}: 不存在start_node的标签{intention_predict}\")\n",
    "                        # 遍历对齐\n",
    "                        for sub_key in value.keys():\n",
    "                            sub_value = value[sub_key]\n",
    "                            if sub_key != \"label\":\n",
    "                                if sub_value!=\"待查询\":\n",
    "                                    if temp_label != None and temp_label not in str(label_property_dict[space_name]):\n",
    "                                        temp_label = None\n",
    "                                    new_value = r3_retriever.align_string( sub_value, space_name, temp_label)\n",
    "                                    new_obj[key][sub_key] = new_value\n",
    "                                else:\n",
    "                                    new_obj[key][sub_key] = \"待查询\"\n",
    "                    else:\n",
    "                        raise Exception( f\"{index}: 对象的值为字典但键不在'start_node,end_node'中{intention_predict}\")\n",
    "                # 处理对象中id list\n",
    "                elif isinstance( value, list):\n",
    "                    if key in [\"start_node_id_list\", \"end_node_id_list\", \"node_id_list\"]:\n",
    "                        new_list = []\n",
    "                        for id_name in new_obj[key]:\n",
    "                            if label != None and label not in str(label_property_dict[space_name]):\n",
    "                                label = None\n",
    "                            try:\n",
    "                                new_list.append( r3_retriever.align_string( id_name, space_name, label) )\n",
    "                            except:\n",
    "                                raise Exception(obj_predict )\n",
    "                        new_obj[key] = new_list\n",
    "                    else:\n",
    "                        pass\n",
    "                # 处理直接的字符属性值\n",
    "                elif isinstance( value, str):\n",
    "                    if key in [\"name\", \"id\"] and value != \"待查询\":  # 跳过不必要对齐的键值对\n",
    "                        if label != None and label not in str(label_property_dict[space_name]):\n",
    "                            label = None\n",
    "                        new_obj[key] = r3_retriever.align_string( value, space_name, label)\n",
    "                # 跳过其他的列表\n",
    "                else:\n",
    "                    pass\n",
    "            # 跳过category\", \"label\"键值\n",
    "            else:\n",
    "                pass\n",
    "        ret_obj_list.append( new_obj )\n",
    "    return ret_obj_list\n"
   ]
  },
  {
   "cell_type": "code",
   "execution_count": 34,
   "metadata": {},
   "outputs": [],
   "source": [
    "def align_restrict( res_list, index ):\n",
    "    space_name = names_space[index]\n",
    "    name_list = []\n",
    "    for i in range(len(res_list)):\n",
    "        name_list.extend( extract_quoted_strings(res_list[i]) )\n",
    "\n",
    "    new_name_map = {}\n",
    "    for name in name_list:\n",
    "        new_name = r3_retriever.align_string( name, space_name, None)\n",
    "        new_name_map[name] = new_name\n",
    "    new_res = []\n",
    "    for res in res_list:\n",
    "        for name in new_name_map:\n",
    "            res = res.replace( name, new_name_map[name])\n",
    "        new_res.append( res )\n",
    "    return new_res"
   ]
  },
  {
   "cell_type": "code",
   "execution_count": 35,
   "metadata": {},
   "outputs": [],
   "source": [
    "def align_return_format( format_dict ):\n",
    "    temp = {\n",
    "        'distinct': False,\n",
    "        'aggregation': [],\n",
    "        'order by': None,\n",
    "        'limit': None,\n",
    "        'skip': None\n",
    "    }\n",
    "    temp[\"distinct\"] = format_dict[\"distinct\"] if format_dict[\"distinct\"] != None else False\n",
    "    temp[\"order by\"] = format_dict[\"order by\"] if (isinstance( format_dict[\"order by\"], str) or format_dict[\"order by\"] == None) else None\n",
    "    temp[\"limit\"] = format_dict[\"limit\"] if (isinstance( format_dict[\"limit\"], str) or format_dict[\"limit\"] == None) else None\n",
    "    temp[\"skip\"] = format_dict[\"skip\"] if (isinstance( format_dict[\"skip\"], str) or format_dict[\"skip\"] == None) else None\n",
    "    new_agg = []\n",
    "    for item in format_dict[\"aggregation\"]:\n",
    "        if item.lower().strip() in [\"min\", \"max\", \"sum\", \"collect\", \"count\", \"id\", \"avg\", \"label\", \"type\", \"concat\", \"relationships\", \"properties\"]:\n",
    "            new_agg.append( item.lower().strip() )\n",
    "    temp[\"aggregation\"] = new_agg\n",
    "    return temp\n"
   ]
  },
  {
   "cell_type": "code",
   "execution_count": 42,
   "metadata": {},
   "outputs": [],
   "source": [
    "def align_intention_list( intention_predicts_list, intention_labels_list, test_nl_list, not_aligned_list, related_objects, restrict, return_format):\n",
    "    aligned_list = []\n",
    "    if len( intention_predicts_list ) != len( intention_labels_list ):\n",
    "        raise Exception( f\"长度不一致 { len(intention_predicts_list), len( intention_labels_list)} \")\n",
    "    for i in tqdm( range( len(intention_predicts_list)), desc = f\"Aligning\"):\n",
    "        intention_predict = intention_predicts_list[i]\n",
    "        query = test_nl_list[i]\n",
    "        # 已经完全对齐，直接append\n",
    "        if i not in not_aligned_list:\n",
    "            aligned_list.append( intention_predict )\n",
    "        else:\n",
    "            intention_label = intention_labels_list[i]\n",
    "            single_temp = {\n",
    "                \"查询对象\": None,\n",
    "                \"查询约束\": None,\n",
    "                \"返回格式\": None\n",
    "            }\n",
    "            if i not in related_objects:\n",
    "                single_temp[ \"查询对象\" ] = intention_predict[ \"查询对象\" ]\n",
    "            else:\n",
    "                single_temp[ \"查询对象\" ] = align_obj( intention_predict, intention_label, query, i)\n",
    "\n",
    "            if i not in restrict:\n",
    "                single_temp[ \"查询约束\" ] = intention_predict[ \"查询约束\" ]\n",
    "            else:\n",
    "                single_temp[ \"查询约束\" ] = align_restrict( intention_predict[ \"查询约束\" ], i )\n",
    "\n",
    "            if i not in return_format:\n",
    "                single_temp[ \"返回格式\" ] = intention_predict[ \"返回格式\" ]\n",
    "            else:\n",
    "                single_temp[ \"返回格式\" ] = align_return_format( intention_predict[\"返回格式\"])\n",
    "            \n",
    "            single_temp[ \"返回格式\" ] = intention_predict[ \"返回格式\" ]\n",
    "            aligned_list.append( single_temp )\n",
    "    return aligned_list"
   ]
  },
  {
   "cell_type": "code",
   "execution_count": 56,
   "metadata": {},
   "outputs": [],
   "source": [
    "def trans_edge_to_path( predict_obj ):\n",
    "    ret_temp = {\n",
    "        'category': 'path',\n",
    "        'start_node_id_list': [],\n",
    "        'edge_type_list': [],\n",
    "        'length': None,\n",
    "        'have_direction': True\n",
    "    }\n",
    "    ret_temp['edge_type_list'] = predict_obj['label']\n",
    "    if \"start_node\" in predict_obj and 'name' in predict_obj['start_node']:\n",
    "        ret_temp['start_node_id_list'].append( predict_obj['start_node']['name'] )\n",
    "    return ret_temp\n",
    "    "
   ]
  },
  {
   "cell_type": "code",
   "execution_count": 61,
   "metadata": {},
   "outputs": [
    {
     "name": "stderr",
     "output_type": "stream",
     "text": [
      "Aligning:   6%|▌         | 72/1254 [00:04<01:25, 13.90it/s]"
     ]
    },
    {
     "name": "stdout",
     "output_type": "stream",
     "text": [
      "字符串匹配未找到，进行embedding检索\n"
     ]
    },
    {
     "name": "stderr",
     "output_type": "stream",
     "text": [
      "Aligning:  17%|█▋        | 210/1254 [00:05<00:19, 52.22it/s]"
     ]
    },
    {
     "name": "stdout",
     "output_type": "stream",
     "text": [
      "字符串匹配未找到，进行embedding检索\n"
     ]
    },
    {
     "name": "stderr",
     "output_type": "stream",
     "text": [
      "Aligning:  19%|█▉        | 243/1254 [00:05<00:20, 49.77it/s]"
     ]
    },
    {
     "name": "stdout",
     "output_type": "stream",
     "text": [
      "字符串匹配未找到，进行embedding检索\n"
     ]
    },
    {
     "name": "stderr",
     "output_type": "stream",
     "text": [
      "Aligning:  20%|██        | 251/1254 [00:06<00:25, 39.87it/s]"
     ]
    },
    {
     "name": "stdout",
     "output_type": "stream",
     "text": [
      "字符串匹配未找到，进行embedding检索\n"
     ]
    },
    {
     "name": "stderr",
     "output_type": "stream",
     "text": [
      "Aligning:  24%|██▍       | 306/1254 [00:09<00:38, 24.81it/s]"
     ]
    },
    {
     "name": "stdout",
     "output_type": "stream",
     "text": [
      "字符串匹配未找到，进行embedding检索\n"
     ]
    },
    {
     "name": "stderr",
     "output_type": "stream",
     "text": [
      "Aligning:  26%|██▌       | 328/1254 [00:10<00:35, 25.89it/s]"
     ]
    },
    {
     "name": "stdout",
     "output_type": "stream",
     "text": [
      "字符串匹配未找到，进行embedding检索\n"
     ]
    },
    {
     "name": "stderr",
     "output_type": "stream",
     "text": [
      "Aligning:  27%|██▋       | 339/1254 [00:11<00:38, 23.52it/s]"
     ]
    },
    {
     "name": "stdout",
     "output_type": "stream",
     "text": [
      "字符串匹配未找到，进行embedding检索\n"
     ]
    },
    {
     "name": "stderr",
     "output_type": "stream",
     "text": [
      "Aligning:  47%|████▋     | 586/1254 [00:19<00:25, 25.98it/s]"
     ]
    },
    {
     "name": "stdout",
     "output_type": "stream",
     "text": [
      "字符串匹配未找到，进行embedding检索\n"
     ]
    },
    {
     "name": "stderr",
     "output_type": "stream",
     "text": [
      "Aligning:  47%|████▋     | 590/1254 [00:20<00:27, 23.82it/s]"
     ]
    },
    {
     "name": "stdout",
     "output_type": "stream",
     "text": [
      "字符串匹配未找到，进行embedding检索\n"
     ]
    },
    {
     "name": "stderr",
     "output_type": "stream",
     "text": [
      "Aligning:  52%|█████▏    | 646/1254 [00:21<00:19, 30.49it/s]"
     ]
    },
    {
     "name": "stdout",
     "output_type": "stream",
     "text": [
      "字符串匹配未找到，进行embedding检索\n"
     ]
    },
    {
     "name": "stderr",
     "output_type": "stream",
     "text": [
      "Aligning:  54%|█████▍    | 676/1254 [00:24<00:29, 19.33it/s]"
     ]
    },
    {
     "name": "stdout",
     "output_type": "stream",
     "text": [
      "字符串匹配未找到，进行embedding检索\n"
     ]
    },
    {
     "name": "stderr",
     "output_type": "stream",
     "text": [
      "Aligning:  57%|█████▋    | 712/1254 [00:27<00:36, 14.66it/s]"
     ]
    },
    {
     "name": "stdout",
     "output_type": "stream",
     "text": [
      "字符串匹配未找到，进行embedding检索\n",
      "字符串匹配未找到，进行embedding检索\n"
     ]
    },
    {
     "name": "stderr",
     "output_type": "stream",
     "text": [
      "Aligning:  60%|█████▉    | 750/1254 [00:28<00:28, 17.91it/s]"
     ]
    },
    {
     "name": "stdout",
     "output_type": "stream",
     "text": [
      "字符串匹配未找到，进行embedding检索\n"
     ]
    },
    {
     "name": "stderr",
     "output_type": "stream",
     "text": [
      "Aligning:  61%|██████▏   | 771/1254 [00:29<00:24, 19.68it/s]"
     ]
    },
    {
     "name": "stdout",
     "output_type": "stream",
     "text": [
      "字符串匹配未找到，进行embedding检索\n"
     ]
    },
    {
     "name": "stderr",
     "output_type": "stream",
     "text": [
      "Aligning:  63%|██████▎   | 785/1254 [00:32<00:40, 11.44it/s]"
     ]
    },
    {
     "name": "stdout",
     "output_type": "stream",
     "text": [
      "字符串匹配未找到，进行embedding检索\n"
     ]
    },
    {
     "name": "stderr",
     "output_type": "stream",
     "text": [
      "Aligning:  65%|██████▍   | 812/1254 [00:37<01:06,  6.63it/s]"
     ]
    },
    {
     "name": "stdout",
     "output_type": "stream",
     "text": [
      "字符串匹配未找到，进行embedding检索\n"
     ]
    },
    {
     "name": "stderr",
     "output_type": "stream",
     "text": [
      "Aligning:  66%|██████▋   | 833/1254 [00:38<00:41, 10.08it/s]"
     ]
    },
    {
     "name": "stdout",
     "output_type": "stream",
     "text": [
      "字符串匹配未找到，进行embedding检索\n"
     ]
    },
    {
     "name": "stderr",
     "output_type": "stream",
     "text": [
      "Aligning:  73%|███████▎  | 917/1254 [00:49<00:57,  5.90it/s]"
     ]
    },
    {
     "name": "stdout",
     "output_type": "stream",
     "text": [
      "字符串匹配未找到，进行embedding检索\n"
     ]
    },
    {
     "name": "stderr",
     "output_type": "stream",
     "text": [
      "Aligning:  78%|███████▊  | 976/1254 [00:52<00:25, 10.99it/s]"
     ]
    },
    {
     "name": "stdout",
     "output_type": "stream",
     "text": [
      "字符串匹配未找到，进行embedding检索\n"
     ]
    },
    {
     "name": "stderr",
     "output_type": "stream",
     "text": [
      "Aligning:  81%|████████  | 1012/1254 [00:53<00:15, 15.93it/s]"
     ]
    },
    {
     "name": "stdout",
     "output_type": "stream",
     "text": [
      "字符串匹配未找到，进行embedding检索\n"
     ]
    },
    {
     "name": "stderr",
     "output_type": "stream",
     "text": [
      "Aligning:  83%|████████▎ | 1045/1254 [00:54<00:10, 20.48it/s]"
     ]
    },
    {
     "name": "stdout",
     "output_type": "stream",
     "text": [
      "字符串匹配未找到，进行embedding检索\n"
     ]
    },
    {
     "name": "stderr",
     "output_type": "stream",
     "text": [
      "Aligning:  87%|████████▋ | 1087/1254 [00:54<00:06, 27.21it/s]"
     ]
    },
    {
     "name": "stdout",
     "output_type": "stream",
     "text": [
      "字符串匹配未找到，进行embedding检索\n"
     ]
    },
    {
     "name": "stderr",
     "output_type": "stream",
     "text": [
      "Aligning:  95%|█████████▌| 1195/1254 [00:55<00:01, 51.60it/s]"
     ]
    },
    {
     "name": "stdout",
     "output_type": "stream",
     "text": [
      "字符串匹配未找到，进行embedding检索\n"
     ]
    },
    {
     "name": "stderr",
     "output_type": "stream",
     "text": [
      "Aligning: 100%|██████████| 1254/1254 [00:56<00:00, 22.21it/s]\n"
     ]
    }
   ],
   "source": [
    "aligned_list = align_intention_list( mix_intention_list, intention_labels_list, test_nl_list, not_aligned_list, related_objects, restrict, return_format)"
   ]
  },
  {
   "cell_type": "code",
   "execution_count": 64,
   "metadata": {},
   "outputs": [
    {
     "name": "stdout",
     "output_type": "stream",
     "text": [
      "总数1254，完全一致数量533\n",
      "查询对象一致数量640，\n",
      "查询约束一致数量941，\n",
      "返回格式一致数量1112，\n"
     ]
    }
   ],
   "source": [
    "\"\"\"\n",
    "原始：\n",
    "总数1254，完全一致数量469\n",
    "查询对象一致数量565，\n",
    "查询约束一致数量928，\n",
    "返回格式一致数量1112，\n",
    "\n",
    "第一次对齐：\n",
    "总数1254，完全一致数量527\n",
    "查询对象一致数量632，\n",
    "查询约束一致数量928，\n",
    "返回格式一致数量1112，\n",
    "\n",
    "第二次对齐\n",
    "总数1254，完全一致数量530\n",
    "查询对象一致数量632，\n",
    "查询约束一致数量931，\n",
    "返回格式一致数量1112，\n",
    "\n",
    "第三次对齐\n",
    "总数1254，完全一致数量533\n",
    "查询对象一致数量640，\n",
    "查询约束一致数量941，\n",
    "返回格式一致数量1112，\n",
    "\"\"\"\n",
    "\n",
    "_, _, _, _ = aligned_or_not( aligned_list,intention_labels_list )"
   ]
  },
  {
   "cell_type": "code",
   "execution_count": 63,
   "metadata": {},
   "outputs": [],
   "source": [
    "save_data( aligned_list, \"/home/jiangpeiwen2/jiangpeiwen2/NL2GQL/methods/MyMethod/N3/intentions/intention_extract/intention_aligned_3.json\")"
   ]
  }
 ],
 "metadata": {
  "kernelspec": {
   "display_name": "n3",
   "language": "python",
   "name": "python3"
  },
  "language_info": {
   "codemirror_mode": {
    "name": "ipython",
    "version": 3
   },
   "file_extension": ".py",
   "mimetype": "text/x-python",
   "name": "python",
   "nbconvert_exporter": "python",
   "pygments_lexer": "ipython3",
   "version": "3.9.18"
  }
 },
 "nbformat": 4,
 "nbformat_minor": 2
}
