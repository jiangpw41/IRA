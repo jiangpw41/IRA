{
 "cells": [
  {
   "cell_type": "code",
   "execution_count": null,
   "metadata": {},
   "outputs": [
    {
     "name": "stderr",
     "output_type": "stream",
     "text": [
      "/home/jiangpeiwen2/jiangpeiwen2/miniconda3/envs/t2c/lib/python3.13/site-packages/tqdm/auto.py:21: TqdmWarning: IProgress not found. Please update jupyter and ipywidgets. See https://ipywidgets.readthedocs.io/en/stable/user_install.html\n",
      "  from .autonotebook import tqdm as notebook_tqdm\n"
     ]
    }
   ],
   "source": [
    "from wayne_utils import load_data, save_data\n",
    "import os\n",
    "from config import _ROOT_PATH   # _ALL_METHODS\n",
    "\n",
    "from eval.SpCQL.EM_Metric import Neo4j_ExactMatch\n",
    "from eval.SpCQL.CA_Metric import Neo4j_ComprehensionAccuracy\n",
    "from eval.SpCQL.SA_Metric import Neo4j_SyntaxAccuracy\n",
    "from eval.SpCQL.EA_Metric import Neo4j_ExecutionAccuracy_Match\n",
    "from eval.SpCQL.R3_EA_Metric import Neo4j_ExecutionAccuracy_R3\n",
    "\n",
    "from utils import Record_result, Check_result"
   ]
  },
  {
   "cell_type": "code",
   "execution_count": 4,
   "metadata": {},
   "outputs": [],
   "source": [
    "_REMOVE_LIMIT_SKIP = False\n",
    "\n",
    "def selet_no_limit( predict_query_list, predict_result_list, gold_query_list, gold_result_list ):\n",
    "    new_predict_query_list, new_predict_result_list, new_gold_query_list, new_gold_result_list = [], [], [], []\n",
    "    for i in range(len(gold_query_list)):\n",
    "        gold_query = gold_query_list[i]\n",
    "        if \"limit \" not in gold_query.lower() and \"skip \" not in gold_query.lower():\n",
    "            new_predict_query_list.append( predict_query_list[i])\n",
    "            new_predict_result_list.append( predict_result_list[i])\n",
    "            new_gold_query_list.append( gold_query_list[i])\n",
    "            new_gold_result_list.append( gold_result_list[i])\n",
    "\n",
    "    return new_predict_query_list, new_predict_result_list, new_gold_query_list, new_gold_result_list"
   ]
  },
  {
   "cell_type": "code",
   "execution_count": 5,
   "metadata": {},
   "outputs": [],
   "source": [
    "import os\n",
    "os.environ[\"CUDA_VISIBLE_DEVICES\"] = \"5\""
   ]
  },
  {
   "cell_type": "code",
   "execution_count": null,
   "metadata": {},
   "outputs": [
    {
     "name": "stdout",
     "output_type": "stream",
     "text": [
      "FT\n",
      "FT-GLM4-9B\n",
      "FT-GLM4-9B的query list和exec result都存在，可以进行eval\n",
      "不存在记录FT-GLM4-9B-EM，允许重写。\n",
      "新的记录：FTGLM4-9B的EM = 53.81165919282511\n",
      "不存在记录FT-GLM4-9B-CA，允许重写。\n"
     ]
    },
    {
     "name": "stderr",
     "output_type": "stream",
     "text": [
      "Some weights of RobertaModel were not initialized from the model checkpoint at roberta-large and are newly initialized: ['roberta.pooler.dense.bias', 'roberta.pooler.dense.weight']\n",
      "You should probably TRAIN this model on a down-stream task to be able to use it for predictions and inference.\n",
      "Bert Scoring: 237it [00:04, 87.54it/s]Warning: Empty reference sentence detected; setting raw BERTScores to 0.\n",
      "Bert Scoring: 275it [00:05, 89.36it/s]Warning: Empty reference sentence detected; setting raw BERTScores to 0.\n",
      "Bert Scoring: 315it [00:05, 89.63it/s]Warning: Empty reference sentence detected; setting raw BERTScores to 0.\n",
      "Bert Scoring: 383it [00:06, 90.31it/s]Warning: Empty reference sentence detected; setting raw BERTScores to 0.\n",
      "Bert Scoring: 393it [00:06, 90.91it/s]Warning: Empty reference sentence detected; setting raw BERTScores to 0.\n",
      "Bert Scoring: 482it [00:07, 91.33it/s]Warning: Empty reference sentence detected; setting raw BERTScores to 0.\n",
      "Bert Scoring: 600it [00:09, 85.16it/s]Warning: Empty reference sentence detected; setting raw BERTScores to 0.\n",
      "Bert Scoring: 719it [00:10, 90.18it/s]Warning: Empty reference sentence detected; setting raw BERTScores to 0.\n",
      "Bert Scoring: 977it [00:13, 91.44it/s]Warning: Empty reference sentence detected; setting raw BERTScores to 0.\n",
      "Bert Scoring: 987it [00:13, 90.61it/s]Warning: Empty reference sentence detected; setting raw BERTScores to 0.\n",
      "Warning: Empty reference sentence detected; setting raw BERTScores to 0.\n",
      "Bert Scoring: 1125it [00:14, 89.70it/s]Warning: Empty reference sentence detected; setting raw BERTScores to 0.\n",
      "Bert Scoring: 1407it [00:17, 90.96it/s]Warning: Empty reference sentence detected; setting raw BERTScores to 0.\n",
      "Bert Scoring: 1527it [00:19, 91.53it/s]Warning: Empty reference sentence detected; setting raw BERTScores to 0.\n",
      "Bert Scoring: 1797it [00:22, 92.96it/s]Warning: Empty reference sentence detected; setting raw BERTScores to 0.\n",
      "Bert Scoring: 1927it [00:23, 91.67it/s]Warning: Empty reference sentence detected; setting raw BERTScores to 0.\n",
      "Bert Scoring: 2007it [00:24, 81.99it/s]\n"
     ]
    },
    {
     "name": "stdout",
     "output_type": "stream",
     "text": [
      "新的记录：FTGLM4-9B的CA = 88.20250054155943\n",
      "不存在记录FT-GLM4-9B-SA，允许重写。\n",
      "新的记录：FTGLM4-9B的SA = 96.01395117090185\n",
      "新的记录：FTGLM4-9B的ER = 4.384653712007972\n",
      "不存在记录FT-GLM4-9B-N3_EA，允许重写。\n"
     ]
    },
    {
     "name": "stderr",
     "output_type": "stream",
     "text": [
      "N3 EA evaluating...:   0%|          | 0/2007 [00:00<?, ?it/s]Building prefix dict from the default dictionary ...\n",
      "Loading model from cache /tmp/jieba.cache\n",
      "Loading model cost 0.650 seconds.\n",
      "Prefix dict has been built successfully.\n",
      "N3 EA evaluating...: 100%|██████████| 2007/2007 [01:21<00:00, 24.54it/s] \n"
     ]
    },
    {
     "name": "stdout",
     "output_type": "stream",
     "text": [
      "新的记录：FTGLM4-9B的N3_EA = 76.9930012466757\n",
      "新的记录：FTGLM4-9B的N3_IEA = 80.18938946656883\n",
      "不存在记录FT-GLM4-9B-EA，允许重写。\n",
      "新的记录：FTGLM4-9B的EA = 49.7259591429995\n",
      "新的记录：FTGLM4-9B的EEA = 55.30642750373692\n",
      "新的记录：FTGLM4-9B的IEA = 51.79034769071095\n"
     ]
    }
   ],
   "source": [
    "gold_query_list = load_data( os.path.join( _ROOT_PATH, \"data/SpCQL/SpCQL_gold_query_list.json\" ), \"json\")\n",
    "gold_result_list = load_data( os.path.join( _ROOT_PATH, \"data/SpCQL/SpCQL_gold_result_list.json\"), \"json\")\n",
    "\n",
    "allow_list = {\n",
    "    \"EM\": True,\n",
    "    \"SA\": True,\n",
    "    \"CA\": True,\n",
    "    \"R3_EA\": True,\n",
    "    \"EA\": True\n",
    "}\n",
    "for method in [\"FT\"]: #_ALL_METHODS.keys():\n",
    "    print( method )\n",
    "    for sub_method in  [\"GLM4-9B\"]:     # _ALL_METHODS[method].keys(): \n",
    "        # if methods[method][sub_method]:\n",
    "        \n",
    "        whole_method_name = method +\"-\" + sub_method if sub_method != \"\" else method\n",
    "        sub_method = None if sub_method == \"\" else sub_method\n",
    "        print( whole_method_name )\n",
    "        \n",
    "        if method == \"Gold\":\n",
    "            predict_query_path = os.path.join( _ROOT_PATH, \"data/SpCQL/SpCQL_gold_query_list.json\" )\n",
    "            predict_result_path = os.path.join( _ROOT_PATH, \"data/SpCQL/SpCQL_gold_query_predict_result_list.json\" )\n",
    "        else:\n",
    "            predict_query_path = os.path.join( _ROOT_PATH, f\"inter_data/SpCQL/query_list/{whole_method_name}_query_list.json\" )\n",
    "            predict_result_path = os.path.join( _ROOT_PATH, f\"inter_data/SpCQL/execute_result_list/{whole_method_name}_execute_results.json\")\n",
    "            \n",
    "        if os.path.exists( predict_query_path ) and os.path.exists( predict_result_path ):\n",
    "            print( f\"{whole_method_name}的query list和exec result都存在，可以进行eval\")\n",
    "            \n",
    "            predict_query_list = load_data( predict_query_path, \"json\")\n",
    "            predict_result_list = load_data( predict_result_path, \"json\")\n",
    "\n",
    "            if _REMOVE_LIMIT_SKIP:\n",
    "                predict_query_list, predict_result_list, gold_query_list, gold_result_list = selet_no_limit( predict_query_list, predict_result_list, gold_query_list, gold_result_list )\n",
    "            if allow_list[ \"EM\" ] and Check_result( \"EM\", method, dataset = \"SpCQL\", sub_method = sub_method, overwrite = False):\n",
    "                EM, EM_list, _, _ = Neo4j_ExactMatch(gold_query_list,  predict_query_list)          # query匹配\n",
    "                Record_result( \"EM\", EM, method, \"SpCQL\", sub_method)\n",
    "\n",
    "            if allow_list[ \"CA\" ] and Check_result( \"CA\", method, dataset = \"SpCQL\", sub_method = sub_method, overwrite = False):\n",
    "                CA = Neo4j_ComprehensionAccuracy( gold_query_list,  predict_query_list )   # query语义相似度\n",
    "                Record_result( \"CA\", CA, method, \"SpCQL\", sub_method)\n",
    "            \n",
    "            if allow_list[\"SA\"] or allow_list[\"R3_EA\"] or allow_list[\"EA\"]:\n",
    "                SA, ER, SA_list = Neo4j_SyntaxAccuracy( predict_result_list )                       # query语义错误\n",
    "            if allow_list[ \"SA\" ] and Check_result( \"SA\", method, dataset = \"SpCQL\", sub_method = sub_method, overwrite = False):\n",
    "                Record_result( \"SA\", SA, method, \"SpCQL\", sub_method)\n",
    "                Record_result( \"ER\", ER, method, \"SpCQL\", sub_method)\n",
    "\n",
    "            if allow_list[ \"R3_EA\" ] and Check_result( \"R3_EA\", method, dataset = \"SpCQL\", sub_method = sub_method, overwrite = False):\n",
    "                R3_EA, R3_IEA = Neo4j_ExecutionAccuracy_R3( predict_result_list, gold_result_list, SA_list )\n",
    "                Record_result( \"R3_EA\", R3_EA, method, \"SpCQL\", sub_method)\n",
    "                Record_result( \"R3_IEA\", R3_IEA, method, \"SpCQL\", sub_method)\n",
    "            \n",
    "            if allow_list[ \"EA\" ] and Check_result( \"EA\", method,  dataset = \"SpCQL\", sub_method = sub_method, overwrite = False):\n",
    "                EA, EEA, IEA, EA_list, EEA_list = Neo4j_ExecutionAccuracy_Match( predict_result_list, gold_result_list, SA_list)     # 结果精确\n",
    "                Record_result( \"EA\", EA, method, \"SpCQL\", sub_method)\n",
    "                Record_result( \"EEA\", EEA, method, \"SpCQL\", sub_method)\n",
    "                Record_result( \"IEA\", IEA, method, \"SpCQL\", sub_method)\n",
    "        else:\n",
    "            print( f\"路径不存在{predict_query_path}或者{predict_result_path}\")\n",
    "            \"\"\"\"\"\""
   ]
  }
 ],
 "metadata": {
  "kernelspec": {
   "display_name": "t2c",
   "language": "python",
   "name": "python3"
  },
  "language_info": {
   "codemirror_mode": {
    "name": "ipython",
    "version": 3
   },
   "file_extension": ".py",
   "mimetype": "text/x-python",
   "name": "python",
   "nbconvert_exporter": "python",
   "pygments_lexer": "ipython3",
   "version": "3.13.1"
  }
 },
 "nbformat": 4,
 "nbformat_minor": 2
}
